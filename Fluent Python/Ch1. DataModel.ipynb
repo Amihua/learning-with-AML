{
 "cells": [
  {
   "cell_type": "markdown",
   "id": "6bff90c4-ea1c-457c-90b7-5a804becb037",
   "metadata": {},
   "source": [
    "## 一段有意思的话\n",
    ">要不这样吧，如果编程语言里有个地方你弄不明白，而正好又有个人用了这个功能，\n",
    "那就开枪把他打死。这比学习新特性要容易些，然后过不了多久，那些活下来的程\n",
    "序员就会开始用 0.9.6 版的 Python，而且他们只需要使用这个版本中易于理解的那一小部分就好了（眨眼）。—— **Tim Peters**"
   ]
  },
  {
   "cell_type": "markdown",
   "id": "ff23f696-80ab-4e45-91d0-2f1446e7bf0b",
   "metadata": {},
   "source": [
    "## Pythonic\n",
    "### Dunder Mathod(双下方法)\n",
    "在python中，为了实现一些特殊的交互，我们通常使用```__命令__```这样的语句实现一些特殊的交互，我们称为“魔法方法”，由于前后带了双下划线，故也被称为“双下方法”\n",
    "\n",
    "经典的例子有```__getitem__```和```__len__```"
   ]
  },
  {
   "cell_type": "code",
   "execution_count": 2,
   "id": "78422871-0e48-4ba9-8ab8-317d94cffe7e",
   "metadata": {},
   "outputs": [],
   "source": [
    "import collections # 本身有很多已经写好的类"
   ]
  },
  {
   "cell_type": "code",
   "execution_count": 29,
   "id": "e5481eb2-24df-4ee7-94af-e0746b861adc",
   "metadata": {},
   "outputs": [],
   "source": [
    "# namedtuple 用以构建只有少数属性但是没有方法的对象\n",
    "Card = collections.namedtuple('Card', ['rank', 'suit']) \n",
    "\n",
    "class FrenchDeck:\n",
    "    ranks = ['A'] + [str(n) for n in range(2, 11)] + list('JQK') # 生成纸牌的数字，全是str类型，并存成一个列表\n",
    "    suits = 'spades diamonds clubs hearts'.split() # 四种花色，split默认切分空格\n",
    "    \n",
    "    def __init__(self):\n",
    "        '''\n",
    "        一张牌有两种默认属性，点数和花色，并一次创建一副没有Joker的牌.\n",
    "        '''\n",
    "        self._cards = [Card(rank, suit) for suit in self.suits\n",
    "                                        for rank in self.ranks]\n",
    "    def __len__(self):\n",
    "        return len(self._cards)\n",
    "    def __getitem__(self, position):\n",
    "        return self._cards[position]"
   ]
  },
  {
   "cell_type": "code",
   "execution_count": 13,
   "id": "dee2e621-20c0-44af-9fca-f6cf692cf8b3",
   "metadata": {},
   "outputs": [
    {
     "data": {
      "text/plain": [
       "Card(rank='5', suit='hearts')"
      ]
     },
     "execution_count": 13,
     "metadata": {},
     "output_type": "execute_result"
    }
   ],
   "source": [
    "beer_card = Card('5', 'hearts') # 任意一张牌，但是我们现在是没有限定的，你可以数字大于13\n",
    "beer_card"
   ]
  },
  {
   "cell_type": "code",
   "execution_count": 14,
   "id": "2b75736c-3a88-4e01-b949-34b675502d36",
   "metadata": {},
   "outputs": [
    {
     "data": {
      "text/plain": [
       "Card(rank='15', suit='hearts')"
      ]
     },
     "execution_count": 14,
     "metadata": {},
     "output_type": "execute_result"
    }
   ],
   "source": [
    "out_card = Card('15', 'hearts')\n",
    "out_card"
   ]
  },
  {
   "cell_type": "markdown",
   "id": "2db81042-0672-45e4-9e6d-5612ca0fb647",
   "metadata": {},
   "source": [
    "接下来创建一副扑克"
   ]
  },
  {
   "cell_type": "code",
   "execution_count": 31,
   "id": "55d7d31b-7373-421b-abf9-b49a1899855d",
   "metadata": {},
   "outputs": [
    {
     "data": {
      "text/plain": [
       "52"
      ]
     },
     "execution_count": 31,
     "metadata": {},
     "output_type": "execute_result"
    }
   ],
   "source": [
    "Poker = FrenchDeck()\n",
    "len(Poker)"
   ]
  },
  {
   "cell_type": "markdown",
   "id": "54010339-798b-42d5-a97e-329a75b2ca54",
   "metadata": {},
   "source": [
    "随机抽一张牌"
   ]
  },
  {
   "cell_type": "code",
   "execution_count": 20,
   "id": "9f51d9ea-c94f-48e9-a96b-1c9cd225169c",
   "metadata": {},
   "outputs": [],
   "source": [
    "import random"
   ]
  },
  {
   "cell_type": "code",
   "execution_count": 21,
   "id": "528b3e14-4672-4ef4-bff9-629582becec3",
   "metadata": {},
   "outputs": [
    {
     "data": {
      "text/plain": [
       "Card(rank='8', suit='clubs')"
      ]
     },
     "execution_count": 21,
     "metadata": {},
     "output_type": "execute_result"
    }
   ],
   "source": [
    "index = random.randint(0,52) \n",
    "Poker[index]"
   ]
  },
  {
   "cell_type": "markdown",
   "id": "9225c5f5-34d0-4d95-9bbf-6590e15733f5",
   "metadata": {},
   "source": [
    "Python提供了更简单的方式做随机抽样，用的是```random.choice```"
   ]
  },
  {
   "cell_type": "code",
   "execution_count": 22,
   "id": "ebc35e2f-a1fa-4801-881f-25a99f0f8b1c",
   "metadata": {},
   "outputs": [],
   "source": [
    "from random import choice"
   ]
  },
  {
   "cell_type": "code",
   "execution_count": 24,
   "id": "2d44c430-e176-4eed-aa48-cee59ae87f8a",
   "metadata": {},
   "outputs": [
    {
     "data": {
      "text/plain": [
       "Card(rank='5', suit='spades')"
      ]
     },
     "execution_count": 24,
     "metadata": {},
     "output_type": "execute_result"
    }
   ],
   "source": [
    " choice(Poker)"
   ]
  },
  {
   "cell_type": "code",
   "execution_count": 25,
   "id": "eaad5871-5eef-4db4-9f6f-412e0fea3bf3",
   "metadata": {},
   "outputs": [
    {
     "data": {
      "text/plain": [
       "Card(rank='J', suit='diamonds')"
      ]
     },
     "execution_count": 25,
     "metadata": {},
     "output_type": "execute_result"
    }
   ],
   "source": [
    " choice(Poker)"
   ]
  },
  {
   "cell_type": "markdown",
   "id": "91c55c9b-7457-4679-ad94-e8ccdd48c8e0",
   "metadata": {},
   "source": [
    "所以一个类默认的三个操作是：构造函数```__init__```，获取长度```__len__```，获取元素```__getitem__```,利用特殊方法的好处是：\n",
    "- 不必去记住标准操作的各式名称\n",
    "- 可以更加方便地利用Python的标准库，比如```random.choice```函数，并且支持切片"
   ]
  },
  {
   "cell_type": "code",
   "execution_count": 32,
   "id": "603f796e-b418-4fc4-9567-e5f38e9e1a15",
   "metadata": {},
   "outputs": [
    {
     "data": {
      "text/plain": [
       "[Card(rank='A', suit='spades'),\n",
       " Card(rank='2', suit='spades'),\n",
       " Card(rank='3', suit='spades'),\n",
       " Card(rank='4', suit='spades'),\n",
       " Card(rank='5', suit='spades')]"
      ]
     },
     "execution_count": 32,
     "metadata": {},
     "output_type": "execute_result"
    }
   ],
   "source": [
    "Poker[:5] # 取出前五张牌"
   ]
  },
  {
   "cell_type": "markdown",
   "id": "653fd3e9-9779-4aec-a328-e5d177a8f3e4",
   "metadata": {},
   "source": [
    "- 实现了```__getitem__```方法，这个类变成可迭代的"
   ]
  },
  {
   "cell_type": "code",
   "execution_count": 36,
   "id": "5276e663-01f0-4a16-9b9d-50a674e4fc7e",
   "metadata": {},
   "outputs": [
    {
     "name": "stdout",
     "output_type": "stream",
     "text": [
      "Card(rank='A', suit='spades')\n",
      "Card(rank='2', suit='spades')\n",
      "Card(rank='3', suit='spades')\n",
      "Card(rank='4', suit='spades')\n",
      "Card(rank='5', suit='spades')\n",
      "Card(rank='6', suit='spades')\n",
      "Card(rank='7', suit='spades')\n",
      "Card(rank='8', suit='spades')\n",
      "Card(rank='9', suit='spades')\n",
      "Card(rank='10', suit='spades')\n",
      "Card(rank='J', suit='spades')\n",
      "Card(rank='Q', suit='spades')\n",
      "Card(rank='K', suit='spades')\n"
     ]
    }
   ],
   "source": [
    "for i in Poker:\n",
    "    '''\n",
    "    打印一种花色\n",
    "    '''\n",
    "    print(i)\n",
    "    if (i.rank == 'K'):\n",
    "        break"
   ]
  },
  {
   "cell_type": "markdown",
   "id": "0ab1c206-b55f-4940-b3e4-0889fb0edb2f",
   "metadata": {},
   "source": [
    "当一个对象是可迭代的，那么可以通过```i```进行迭代判断某个元素是否在Ta之中"
   ]
  },
  {
   "cell_type": "code",
   "execution_count": 41,
   "id": "2dc4e235-1886-4f49-96c1-aab739765f28",
   "metadata": {},
   "outputs": [
    {
     "data": {
      "text/plain": [
       "(True, False)"
      ]
     },
     "execution_count": 41,
     "metadata": {},
     "output_type": "execute_result"
    }
   ],
   "source": [
    "Card('7','hearts') in Poker, Card('15','hearts') in Poker"
   ]
  },
  {
   "cell_type": "markdown",
   "id": "2ac6eba5-19ec-4278-8fde-314d522a6da7",
   "metadata": {},
   "source": [
    "上面我们写的卡牌类```Poker```，事实上它是继承了```object```，在python3中是默认继承的，如果显示的书写继承，可以写为```Poker(object)```.在Pytorch中，神经网络结构经常会继承```nn.Module```，故通常写为\n",
    "```python\n",
    "class Net(nn.Module):\n",
    "    pass\n",
    "```"
   ]
  },
  {
   "cell_type": "markdown",
   "id": "fe7de111-06b6-40b9-bca9-193ab318c1a6",
   "metadata": {},
   "source": [
    "## 如何使用特殊方法\n",
    "注意，调用特殊方法的时候，写法是直接```object.len```，而不是```object.__len__```"
   ]
  },
  {
   "cell_type": "markdown",
   "id": "704153a4-ed0f-4233-8bdd-6d716a229e1b",
   "metadata": {},
   "source": [
    "### 实现一个二维向量类\n",
    "功能需求：\n",
    "- 字符串表示显示```__repr__```\n",
    ">能把一个对象用字符串的形式表达出来以便辨认，这就是“字符串表示形式”.\n",
    "- 取模```__abs__```\n",
    "> From Python 3.8, this method is used to calculate the Euclidean norm as well. For n-dimensional cases, the coordinates passed are assumed to be like (x1, x2, x3, ..., xn). So Euclidean length from the origin is calculated by $sqrt(x_1^2 + x_2^2 + \\ + x_n^2)$.\n",
    ">```python\n",
    "hypot(x_1,x_2,···,x_N) = sqrt()\n",
    "```\n",
    "- 加法```__add__```\n",
    "- 数乘```__mul__```\n",
    "\n",
    "使用了```__add__```，```__mul__```实现类的计算后，当你使用```+```与```*```时，python解释器会默认调用```__add__```，```__mul__```.事实上是一种运算符重载."
   ]
  },
  {
   "cell_type": "code",
   "execution_count": 47,
   "id": "815be309-2728-4af8-b28a-3875441d587b",
   "metadata": {},
   "outputs": [
    {
     "data": {
      "text/plain": [
       "1.4142135623730951"
      ]
     },
     "execution_count": 47,
     "metadata": {},
     "output_type": "execute_result"
    }
   ],
   "source": [
    "from math import hypot\n",
    "hypot(1,1)"
   ]
  },
  {
   "cell_type": "code",
   "execution_count": 48,
   "id": "2ff1f3a3-9747-4856-8823-f50d1ea50e61",
   "metadata": {},
   "outputs": [],
   "source": [
    "class Vector:\n",
    "    def __init__(self, x=0, y=0):\n",
    "        self.x = x\n",
    "        self.y = y\n",
    "    def __repr__(self):\n",
    "        return \"Vector(%r, %r)\" % (self.x, self.y)\n",
    "    \n",
    "    def __abs__(self):\n",
    "        return hypot(self.x, self.y)\n",
    "    \n",
    "    def __add__(self, other):\n",
    "        x = self.x + other.x\n",
    "        y = self.x + other.y\n",
    "        return Vector(x,y)\n",
    "    \n",
    "    def __mul__(self, scale):\n",
    "        '''\n",
    "        数乘\n",
    "        '''\n",
    "        return Vector(self.x * scale, self.y * scale)"
   ]
  },
  {
   "cell_type": "code",
   "execution_count": 51,
   "id": "67e6aeaf-515e-427e-8327-5f2cdde8a884",
   "metadata": {},
   "outputs": [
    {
     "data": {
      "text/plain": [
       "Vector(3, 6)"
      ]
     },
     "execution_count": 51,
     "metadata": {},
     "output_type": "execute_result"
    }
   ],
   "source": [
    "a = Vector(1,2)\n",
    "b = Vector(3,4)\n",
    "\n",
    "print(a)\n",
    "print(abs(a))\n",
    "peint()"
   ]
  },
  {
   "cell_type": "markdown",
   "id": "fcd2f8e9-88ce-4816-ad15-d0d8ac540895",
   "metadata": {},
   "source": [
    "[**注：**](格式化字符串)格式化字符串有两种方法\n",
    "\n",
    "1. ```%```\n",
    "```python\n",
    "\"Vector(%r, %r)\" % (self.x, self.y)\n",
    "```\n",
    "2. ```str.format```\n",
    "```python\n",
    "\"Vector({},{})\".format(self.x, self.y)\n",
    "```"
   ]
  },
  {
   "cell_type": "markdown",
   "id": "645162df-d9db-4f08-a56b-0bab8aeecbcc",
   "metadata": {},
   "source": [
    "```__repr__``` 和 ```__str__```的区别在于，后者是在 str() 函数被使用，或是在用 print 函数打印一个对象的时候才被调用的，并且它返回的字符串对终端用户更友好。\n",
    "如果你只想实现这两个特殊方法中的一个，```__repr__``` 是更好的选择，因为如果一个对象没有 ```__str__``` 函数，而 Python 又需要调用它的时候，解释器会用```__repr__``` 作为替代。\n",
    "\n",
    "常用的特殊方法如下所示：\n",
    "[DataModel](（https://docs.python.org/3/reference/datamodel.html）)\n",
    "![jupyter](./image/图1-1.png)"
   ]
  },
  {
   "cell_type": "markdown",
   "id": "b0d73a0c-16b8-4057-ad30-6348f4f71b24",
   "metadata": {},
   "source": [
    "## 小结\n",
    "简单来说，如果用了魔法方法，首先第一个是表现出重载性，很多函数的使用都符合直觉了；其次，尽管实现用的是类内函数，但在实际使用中，更像是直接使用函数一样."
   ]
  },
  {
   "cell_type": "code",
   "execution_count": null,
   "id": "12e7ece4-d98a-48e7-b5da-e20f135413e2",
   "metadata": {},
   "outputs": [],
   "source": []
  }
 ],
 "metadata": {
  "kernelspec": {
   "display_name": "ML38",
   "language": "python",
   "name": "ml38"
  },
  "language_info": {
   "codemirror_mode": {
    "name": "ipython",
    "version": 3
   },
   "file_extension": ".py",
   "mimetype": "text/x-python",
   "name": "python",
   "nbconvert_exporter": "python",
   "pygments_lexer": "ipython3",
   "version": "3.8.12"
  },
  "widgets": {
   "application/vnd.jupyter.widget-state+json": {
    "state": {},
    "version_major": 2,
    "version_minor": 0
   }
  }
 },
 "nbformat": 4,
 "nbformat_minor": 5
}
