{
 "cells": [
  {
   "cell_type": "markdown",
   "id": "22a3727f",
   "metadata": {},
   "source": [
    "## 内置序列类型概览\n",
    "序列型数据共有的特征：**迭代、切片、排序、拼接**.\n",
    "\n",
    "从数学上说，存放东西的容器有很多，例如向量（存放的元素是数）、矩阵、集合，对于向量与矩阵，我们要求其中存放的东西只能是同类型的数，而对于集合我们不要求它是同一类的，就像一个袋子，什么东西都可以往里放.Python中实现了类似的数据结构：\n",
    "- 容器类型【可以存放不同数据类型】\n",
    "    - ```list```\n",
    "```PYTHON\n",
    "L=[1,2,\"A\"]\n",
    "```\n",
    "    - ```tuple```\n",
    "```PYTHON\n",
    "(1,2,'A')\n",
    "```\n",
    "    - ```set```\n",
    "```python\n",
    "{1,2,'A',2} # 集合类型会自动去重\n",
    "```   \n",
    "    -```collections.deque```队列"
   ]
  },
  {
   "cell_type": "code",
   "execution_count": 30,
   "id": "5d8f1533",
   "metadata": {
    "ExecuteTime": {
     "end_time": "2022-05-02T06:45:53.806826Z",
     "start_time": "2022-05-02T06:45:53.782909Z"
    }
   },
   "outputs": [
    {
     "name": "stdout",
     "output_type": "stream",
     "text": [
      "d: deque(['A', 'B', 'C', 'D', 'E'])\n",
      "-----------------------------------\n",
      "左添加: deque(['f', 'A', 'B', 'C', 'D', 'E'])\n",
      "-----------------------------------\n",
      "弹出最右边: E\n",
      "d: deque(['f', 'A', 'B', 'C', 'D'])\n",
      "-----------------------------------\n",
      "逆序: deque(['D', 'C', 'B', 'A', 'f'])\n",
      "-----------------------------------\n",
      "清空: None\n"
     ]
    }
   ],
   "source": [
    "from collections import deque\n",
    "d = deque(['A', 'B', 'C', 'D'])\n",
    "d.append('E')\n",
    "print(\"d:\",d)\n",
    "print(\"-\"*35)\n",
    "\n",
    "d.appendleft('f')\n",
    "print(\"左添加:\",d)\n",
    "print(\"-\"*35)\n",
    "\n",
    "print(\"弹出最右边:\",d.pop())\n",
    "print(\"d:\",d)\n",
    "print(\"-\"*35)\n",
    "\n",
    "print(\"逆序:\",deque(reversed(d)))\n",
    "print(\"-\"*35)\n",
    "\n",
    "print(\"清空:\",d.clear())"
   ]
  },
  {
   "cell_type": "markdown",
   "id": "57a193ea",
   "metadata": {},
   "source": [
    "- 扁平类型\n",
    "\n",
    "```str```、```bytes```、```bytearray```、```memoryview``` 和 ```array.array```，这类序列只能容纳一种类型.\n",
    "\n",
    ">[注] \n",
    ">\n",
    ">Python 3最重要的新特性之一是对字符串和二进制数据流做了明确的区分。\n",
    ">\n",
    ">文本总是Unicode，由str类型表示，二进制数据则由bytes类型表示。Python 3不会以任意隐式的方式混用str和bytes，你不能拼接字符串和字节流，也无法在字节流里搜索字符串（反之亦然），也不能将字符串传入参数为字节流的函数（反之亦然）。\n"
   ]
  },
  {
   "cell_type": "code",
   "execution_count": 41,
   "id": "90bc7573",
   "metadata": {
    "ExecuteTime": {
     "end_time": "2022-05-02T07:05:34.590018Z",
     "start_time": "2022-05-02T07:05:34.570071Z"
    }
   },
   "outputs": [
    {
     "name": "stdout",
     "output_type": "stream",
     "text": [
      "A 的类型: <class 'str'>\n",
      "bA 的类型: <class 'bytes'>\n",
      "b'\\xe5\\xad\\xa6\\xe4\\xb9\\xa0'\n"
     ]
    }
   ],
   "source": [
    "A = \"学习\"\n",
    "print(\"A 的类型:\",type(A))\n",
    "# bA = b\"学习\" 这样会报错，因为bytes只能编码ASCII\n",
    "bA = b\"ABC\"\n",
    "print(\"bA 的类型:\",type(bA))\n",
    "\n",
    "b = bytes(A, encoding = 'utf-8') # 通过这样可以将str，非ASCII转换为bytes\n",
    "print(b)"
   ]
  },
  {
   "cell_type": "markdown",
   "id": "3f291c0c",
   "metadata": {},
   "source": [
    "需要注意以下几点\n",
    "1. 在将字符串存入磁盘和从磁盘读取字符串的过程中，Python自动地帮你完成了编码和解码的工作，你不需要关心它的过程。\n",
    "\n",
    "2. 使用bytes类型，实质上是告诉Python，不需要它帮你自动地完成编码和解码的工作，而是用户自己手动进行，并指定编码格式。\n",
    "\n",
    "3. Python已经严格区分了bytes和str两种数据类型，你不能在需要bytes类型参数的时候使用str参数，反之亦然。这点在读写磁盘文件时容易碰到。"
   ]
  },
  {
   "cell_type": "markdown",
   "id": "b71b8157",
   "metadata": {},
   "source": [
    "容器序列存放的是它们所包含的任意类型的对象的引用，而扁平序列里存放的是值而不是引用。换句话说，扁平序列其实是一段连续的内存空间。\n",
    "\n",
    "在python中，有些序列中的值是不能修改的，按照这个区别分类可以分为**可变类型**与**不可变类型**.\n",
    "\n",
    "- ✅可变序列\n",
    "\n",
    "```list```、```bytearray```、```array.array```、```collections.deque``` 和 ```memoryview```.\n",
    "\n",
    "- ❌不可变序列\n",
    "\n",
    "```tuple```、```str``` 和 ```bytes```\n",
    "下图展现了不可变类型与可变类型的继承关系：\n",
    "\n",
    "![jupyter](./image/图2-1可变序列与不可变序列.png)\n"
   ]
  },
  {
   "cell_type": "markdown",
   "id": "d8e0adc1",
   "metadata": {},
   "source": [
    "## 列表推导（list comprehension）和生成器表达式（generator expression）"
   ]
  },
  {
   "cell_type": "markdown",
   "id": "7d159dac",
   "metadata": {},
   "source": [
    "列表推导式就是你在看大多数Github大牛代码时，看不懂的一个主要原因，因为他是一种简便写法.对于一般的列表循环，如打印列表所有元素，学过循环你肯定会写："
   ]
  },
  {
   "cell_type": "code",
   "execution_count": 43,
   "id": "8d8d84b0",
   "metadata": {
    "ExecuteTime": {
     "end_time": "2022-05-02T07:32:02.503185Z",
     "start_time": "2022-05-02T07:32:02.487226Z"
    }
   },
   "outputs": [
    {
     "name": "stdout",
     "output_type": "stream",
     "text": [
      "0\n",
      "1\n",
      "2\n",
      "3\n",
      "4\n"
     ]
    }
   ],
   "source": [
    "for i in range(5):\n",
    "    print(i)"
   ]
  },
  {
   "cell_type": "markdown",
   "id": "3a4cd1cb",
   "metadata": {},
   "source": [
    "如果我们希望将它存成一个list，那么可以写成："
   ]
  },
  {
   "cell_type": "code",
   "execution_count": 48,
   "id": "83ba2d33",
   "metadata": {
    "ExecuteTime": {
     "end_time": "2022-05-02T07:34:22.894287Z",
     "start_time": "2022-05-02T07:34:22.885312Z"
    }
   },
   "outputs": [
    {
     "name": "stdout",
     "output_type": "stream",
     "text": [
      "[0, 1, 2, 3, 4]\n"
     ]
    }
   ],
   "source": [
    "A = []\n",
    "for i in range(5):\n",
    "    A.append(i)\n",
    "print(A)"
   ]
  },
  {
   "cell_type": "markdown",
   "id": "0601e7e3",
   "metadata": {},
   "source": [
    "如果用列表推导式可以更简单的写成:"
   ]
  },
  {
   "cell_type": "code",
   "execution_count": 49,
   "id": "59661dbb",
   "metadata": {
    "ExecuteTime": {
     "end_time": "2022-05-02T07:34:24.493719Z",
     "start_time": "2022-05-02T07:34:24.471775Z"
    }
   },
   "outputs": [
    {
     "data": {
      "text/plain": [
       "[0, 1, 2, 3, 4]"
      ]
     },
     "execution_count": 49,
     "metadata": {},
     "output_type": "execute_result"
    }
   ],
   "source": [
    "[i for i in range(5)]"
   ]
  },
  {
   "cell_type": "markdown",
   "id": "0d0bf9d3",
   "metadata": {},
   "source": [
    "列表推导式的好处是利用for函数来生成一个新列表，满足某种性质，使用的场景一般是：**只用列表推导来创建新的列表，并且尽量保持简短**.有一个好消息是：Python3的列表推导式不会造成变量泄露的问题.\n",
    "\n",
    "![](./image/图2-2Python3列表推导不会变量泄露.png)"
   ]
  },
  {
   "cell_type": "markdown",
   "id": "ab3a05c3",
   "metadata": {},
   "source": [
    "不仅如此，列表推导还可以多重嵌套：\n",
    "假如你有3件T恤衫A，B，C；另外还有4条裤子a，b，c，d.那么你的穿衣搭配一共有十二种，分别为："
   ]
  },
  {
   "cell_type": "code",
   "execution_count": 2,
   "id": "f3522238",
   "metadata": {
    "ExecuteTime": {
     "end_time": "2022-05-02T08:26:24.805900Z",
     "start_time": "2022-05-02T08:26:24.790966Z"
    }
   },
   "outputs": [
    {
     "data": {
      "text/plain": [
       "12"
      ]
     },
     "execution_count": 2,
     "metadata": {},
     "output_type": "execute_result"
    }
   ],
   "source": [
    "Tshirt = [\"A\", \"B\", \"C\"]\n",
    "Jeans = [\"a\", \"b\", \"c\", \"d\"]\n",
    "len([(clothes, jeans) for clothes in Tshirt for jeans in Jeans])"
   ]
  },
  {
   "cell_type": "markdown",
   "id": "fd38239f",
   "metadata": {},
   "source": [
    "更清晰可以这么写："
   ]
  },
  {
   "cell_type": "code",
   "execution_count": 3,
   "id": "81507a2b",
   "metadata": {
    "ExecuteTime": {
     "end_time": "2022-05-02T08:44:30.245400Z",
     "start_time": "2022-05-02T08:44:30.230410Z"
    }
   },
   "outputs": [
    {
     "data": {
      "text/plain": [
       "12"
      ]
     },
     "execution_count": 3,
     "metadata": {},
     "output_type": "execute_result"
    }
   ],
   "source": [
    "len([(clothes, jeans) for clothes in Tshirt \n",
    "                      for jeans in Jeans])"
   ]
  },
  {
   "cell_type": "markdown",
   "id": "facab5cc",
   "metadata": {},
   "source": [
    "如果想生成其他类型的序列，例如数组、元组等，我们可以用**生成器表达式**\n",
    "### 生成器表达式\n",
    "用生成器表达式初始化元组和数组."
   ]
  },
  {
   "cell_type": "code",
   "execution_count": 5,
   "id": "96c6c16b",
   "metadata": {
    "ExecuteTime": {
     "end_time": "2022-05-02T08:52:54.775700Z",
     "start_time": "2022-05-02T08:52:54.758775Z"
    }
   },
   "outputs": [
    {
     "data": {
      "text/plain": [
       "(36, 162, 163, 165, 8364, 164)"
      ]
     },
     "execution_count": 5,
     "metadata": {},
     "output_type": "execute_result"
    }
   ],
   "source": [
    "symbols = '$¢£¥€¤'\n",
    "tuple(ord(symbol) for symbol in symbols)\n"
   ]
  },
  {
   "cell_type": "code",
   "execution_count": 6,
   "id": "d144771f",
   "metadata": {
    "ExecuteTime": {
     "end_time": "2022-05-02T08:53:17.894411Z",
     "start_time": "2022-05-02T08:53:17.779297Z"
    }
   },
   "outputs": [
    {
     "data": {
      "text/plain": [
       "array('I', [36, 162, 163, 165, 8364, 164])"
      ]
     },
     "execution_count": 6,
     "metadata": {},
     "output_type": "execute_result"
    }
   ],
   "source": [
    "import array\n",
    "array.array('I', (ord(symbol) for symbol in symbols))"
   ]
  },
  {
   "cell_type": "code",
   "execution_count": 7,
   "id": "e162ad83",
   "metadata": {
    "ExecuteTime": {
     "end_time": "2022-05-02T08:57:34.076702Z",
     "start_time": "2022-05-02T08:57:34.056755Z"
    }
   },
   "outputs": [
    {
     "data": {
      "text/plain": [
       "{36, 162, 163, 164, 165, 8364}"
      ]
     },
     "execution_count": 7,
     "metadata": {},
     "output_type": "execute_result"
    }
   ],
   "source": [
    "{ord(symbol) for symbol in symbols}"
   ]
  },
  {
   "cell_type": "markdown",
   "id": "b1d055e3",
   "metadata": {},
   "source": [
    "有一点需要注意的是，生成器表达式比列表推导式节省内存空间！因为生成器表达式会在每次 for 循环运行时才生成一个组合"
   ]
  },
  {
   "cell_type": "code",
   "execution_count": 9,
   "id": "2092864a",
   "metadata": {
    "ExecuteTime": {
     "end_time": "2022-05-02T09:04:48.917211Z",
     "start_time": "2022-05-02T09:04:48.895301Z"
    }
   },
   "outputs": [
    {
     "data": {
      "text/plain": [
       "['A a',\n",
       " 'A b',\n",
       " 'A c',\n",
       " 'A d',\n",
       " 'B a',\n",
       " 'B b',\n",
       " 'B c',\n",
       " 'B d',\n",
       " 'C a',\n",
       " 'C b',\n",
       " 'C c',\n",
       " 'C d']"
      ]
     },
     "execution_count": 9,
     "metadata": {},
     "output_type": "execute_result"
    }
   ],
   "source": [
    "['%s %s' % (t, j) for t in Tshirt for j in Jeans]"
   ]
  },
  {
   "cell_type": "code",
   "execution_count": 8,
   "id": "38f4abcf",
   "metadata": {
    "ExecuteTime": {
     "end_time": "2022-05-02T09:03:11.398435Z",
     "start_time": "2022-05-02T09:03:11.377403Z"
    }
   },
   "outputs": [
    {
     "data": {
      "text/plain": [
       "<generator object <genexpr> at 0x0000028F15F12270>"
      ]
     },
     "execution_count": 8,
     "metadata": {},
     "output_type": "execute_result"
    }
   ],
   "source": [
    "('%s %s' % (t, j) for t in Tshirt for j in Jeans) "
   ]
  },
  {
   "cell_type": "markdown",
   "id": "765e3c80",
   "metadata": {},
   "source": [
    "生成器表达式与列表推导不同的是，生成器产生的不是一个具体的数据结构，而是一个生成器对象，因此并不会每次都占用大量空间"
   ]
  },
  {
   "attachments": {},
   "cell_type": "markdown",
   "id": "d4d1be09",
   "metadata": {},
   "source": [
    "## 元组\n",
    "一个元组实际上是类似于“数据库”中的一条记录，怎么理解呢，例如书中的例子2-7：\n",
    "\n",
    "![](./image/图2-3元组与记录.png)\n",
    "\n",
    "当我们规定好每条记录相对应的字段，元组就是一条记录，数据库就可以用一个列表将所有元组存放进去.\n"
   ]
  },
  {
   "cell_type": "markdown",
   "id": "ebc9d157",
   "metadata": {},
   "source": [
    "### 元组拆包\n",
    "元组拆包指的是，一个元组对应的本质上有多个信息，所以我们可以通过位置，对应的解析相应的位置的参数."
   ]
  },
  {
   "cell_type": "code",
   "execution_count": null,
   "id": "5da27457",
   "metadata": {},
   "outputs": [],
   "source": []
  },
  {
   "cell_type": "code",
   "execution_count": null,
   "id": "9ed41d88",
   "metadata": {},
   "outputs": [],
   "source": []
  },
  {
   "cell_type": "code",
   "execution_count": null,
   "id": "bc9a4932",
   "metadata": {},
   "outputs": [],
   "source": []
  },
  {
   "cell_type": "code",
   "execution_count": null,
   "id": "d70b9d98",
   "metadata": {},
   "outputs": [],
   "source": []
  },
  {
   "cell_type": "code",
   "execution_count": null,
   "id": "79bc5ca1",
   "metadata": {},
   "outputs": [],
   "source": []
  },
  {
   "cell_type": "code",
   "execution_count": null,
   "id": "5542268f",
   "metadata": {},
   "outputs": [],
   "source": []
  },
  {
   "cell_type": "code",
   "execution_count": null,
   "id": "fd2b1b26",
   "metadata": {},
   "outputs": [],
   "source": []
  },
  {
   "cell_type": "markdown",
   "id": "969ce815",
   "metadata": {},
   "source": [
    "## 参考文献\n",
    "[[1]Python3中的bytes和str类型](https://blog.csdn.net/lyb3b3b/article/details/74993327)\n",
    "\n"
   ]
  },
  {
   "cell_type": "code",
   "execution_count": null,
   "id": "2551b993",
   "metadata": {},
   "outputs": [],
   "source": []
  }
 ],
 "metadata": {
  "kernelspec": {
   "display_name": "ML38",
   "language": "python",
   "name": "ml38"
  },
  "language_info": {
   "codemirror_mode": {
    "name": "ipython",
    "version": 3
   },
   "file_extension": ".py",
   "mimetype": "text/x-python",
   "name": "python",
   "nbconvert_exporter": "python",
   "pygments_lexer": "ipython3",
   "version": "3.8.12"
  },
  "latex_envs": {
   "LaTeX_envs_menu_present": true,
   "autoclose": false,
   "autocomplete": true,
   "bibliofile": "biblio.bib",
   "cite_by": "apalike",
   "current_citInitial": 1,
   "eqLabelWithNumbers": true,
   "eqNumInitial": 1,
   "hotkeys": {
    "equation": "Ctrl-E",
    "itemize": "Ctrl-I"
   },
   "labels_anchors": false,
   "latex_user_defs": false,
   "report_style_numbering": false,
   "user_envs_cfg": false
  }
 },
 "nbformat": 4,
 "nbformat_minor": 5
}
